{
 "cells": [
  {
   "cell_type": "code",
   "execution_count": 1,
   "id": "empty-telephone",
   "metadata": {},
   "outputs": [],
   "source": [
    "# Import the relevant zonal wind main code \n",
    "from zonalwind import *\n",
    "from zonalwind import ray\n",
    "ray.init()\n",
    "\n",
    "\n",
    "#Set path of images\n",
    "path2data = './data2/'\n"
   ]
  },
  {
   "cell_type": "code",
   "execution_count": 2,
   "id": "quick-patrol",
   "metadata": {},
   "outputs": [],
   "source": [
    "\n",
    "\n",
    "#Get an array of latitudes from -70 to 70 degrees in increments of +0.05 to refer to when printing out latitudes below.\n",
    "images = glob.glob(path2data + '*.fits')\n",
    "image1 = images[0]\n",
    "hdulist = fits.open(image1) \n",
    "lat_bot, lat_top, lat_step = hdulist[0].header['LAT_BOT'], hdulist[0].header['LAT_TOP'], hdulist[0].header['LAT_STEP']\n",
    "latitude = np.linspace(lat_bot, lat_top, int((lat_top - lat_bot)/lat_step) + 1)\n",
    "\n",
    "# Caveat, this only works if all the images have the same latitude cut off "
   ]
  },
  {
   "cell_type": "code",
   "execution_count": 3,
   "id": "anticipated-playing",
   "metadata": {},
   "outputs": [
    {
     "name": "stdout",
     "output_type": "stream",
     "text": [
      " pid=15272)\u001b[0m ./data2\\200920_631_0313_reg_corr.fits ./data2\\200920_631_1231_reg_corr.fits\n",
      " pid=13720)\u001b[0m ./data2\\200920_631_0313_reg_corr.fits ./data2\\200920_631_1231_reg_corr.fits\n",
      " pid=20468)\u001b[0m ./data2\\200920_631_0313_reg_corr.fits ./data2\\200920_631_1231_reg_corr.fits\n",
      " pid=19908)\u001b[0m ./data2\\200920_631_0313_reg_corr.fits ./data2\\200920_631_1231_reg_corr.fits\n",
      " pid=9796)\u001b[0m ./data2\\200920_631_0313_reg_corr.fits ./data2\\200920_631_1231_reg_corr.fits\n",
      " pid=15156)\u001b[0m ./data2\\200920_631_0313_reg_corr.fits ./data2\\200920_631_1231_reg_corr.fits\n"
     ]
    },
    {
     "name": "stderr",
     "output_type": "stream",
     "text": [
      "\u001b[2m\u001b[36m(pid=19908)\u001b[0m c:\\Users\\Brandon\\jupiter_wind\\jupiter-wind-speeds\\zonalwind.py:357: RuntimeWarning: invalid value encountered in double_scalars\n",
      "\u001b[2m\u001b[36m(pid=19908)\u001b[0m   total_corr = (product_sum - sum1*sum2/N) / sqrt((sq_sum1 - (sum1**2)/N) * (sq_sum2 - (sum2**2)/N))\n",
      "\u001b[2m\u001b[36m(pid=13720)\u001b[0m c:\\Users\\Brandon\\jupiter_wind\\jupiter-wind-speeds\\zonalwind.py:357: RuntimeWarning: invalid value encountered in double_scalars\n",
      "\u001b[2m\u001b[36m(pid=13720)\u001b[0m   total_corr = (product_sum - sum1*sum2/N) / sqrt((sq_sum1 - (sum1**2)/N) * (sq_sum2 - (sum2**2)/N))\n",
      "\u001b[2m\u001b[36m(pid=20468)\u001b[0m c:\\Users\\Brandon\\jupiter_wind\\jupiter-wind-speeds\\zonalwind.py:357: RuntimeWarning: invalid value encountered in double_scalars\n",
      "\u001b[2m\u001b[36m(pid=20468)\u001b[0m   total_corr = (product_sum - sum1*sum2/N) / sqrt((sq_sum1 - (sum1**2)/N) * (sq_sum2 - (sum2**2)/N))\n",
      "\u001b[2m\u001b[36m(pid=15272)\u001b[0m c:\\Users\\Brandon\\jupiter_wind\\jupiter-wind-speeds\\zonalwind.py:357: RuntimeWarning: invalid value encountered in double_scalars\n",
      "\u001b[2m\u001b[36m(pid=15272)\u001b[0m   total_corr = (product_sum - sum1*sum2/N) / sqrt((sq_sum1 - (sum1**2)/N) * (sq_sum2 - (sum2**2)/N))\n",
      "\u001b[2m\u001b[36m(pid=15156)\u001b[0m c:\\Users\\Brandon\\jupiter_wind\\jupiter-wind-speeds\\zonalwind.py:357: RuntimeWarning: invalid value encountered in double_scalars\n",
      "\u001b[2m\u001b[36m(pid=15156)\u001b[0m   total_corr = (product_sum - sum1*sum2/N) / sqrt((sq_sum1 - (sum1**2)/N) * (sq_sum2 - (sum2**2)/N))\n",
      "\u001b[2m\u001b[36m(pid=9796)\u001b[0m c:\\Users\\Brandon\\jupiter_wind\\jupiter-wind-speeds\\zonalwind.py:357: RuntimeWarning: invalid value encountered in double_scalars\n",
      "\u001b[2m\u001b[36m(pid=9796)\u001b[0m   total_corr = (product_sum - sum1*sum2/N) / sqrt((sq_sum1 - (sum1**2)/N) * (sq_sum2 - (sum2**2)/N))\n"
     ]
    },
    {
     "name": "stdout",
     "output_type": "stream",
     "text": [
      " pid=19908)\u001b[0m ./data2\\200920_631_0313_reg_corr.fits ./data2\\200920_631_1258_reg_corr.fits\n",
      " pid=15272)\u001b[0m ./data2\\200920_631_0313_reg_corr.fits ./data2\\200920_631_1258_reg_corr.fits\n",
      " pid=13720)\u001b[0m ./data2\\200920_631_0313_reg_corr.fits ./data2\\200920_631_1258_reg_corr.fits\n",
      " pid=15156)\u001b[0m ./data2\\200920_631_0313_reg_corr.fits ./data2\\200920_631_1258_reg_corr.fits\n",
      " pid=9796)\u001b[0m ./data2\\200920_631_0313_reg_corr.fits ./data2\\200920_631_1258_reg_corr.fits\n",
      " pid=20468)\u001b[0m ./data2\\200920_631_0313_reg_corr.fits ./data2\\200920_631_1258_reg_corr.fits\n",
      " pid=15272)\u001b[0m ./data2\\200920_631_0313_reg_corr.fits ./data2\\200920_631_1406_reg_corr.fits\n",
      " pid=19908)\u001b[0m ./data2\\200920_631_0313_reg_corr.fits ./data2\\200920_631_1406_reg_corr.fits\n",
      " pid=15156)\u001b[0m ./data2\\200920_631_0313_reg_corr.fits ./data2\\200920_631_1406_reg_corr.fits\n",
      " pid=13720)\u001b[0m ./data2\\200920_631_0313_reg_corr.fits ./data2\\200920_631_1406_reg_corr.fits\n",
      " pid=9796)\u001b[0m ./data2\\200920_631_0313_reg_corr.fits ./data2\\200920_631_1406_reg_corr.fits\n",
      " pid=20468)\u001b[0m ./data2\\200920_631_0313_reg_corr.fits ./data2\\200920_631_1406_reg_corr.fits\n",
      " pid=15272)\u001b[0m ./data2\\200920_631_0313_reg_corr.fits ./data2\\200920_631_1447_reg_corr.fits\n",
      " pid=19908)\u001b[0m ./data2\\200920_631_0313_reg_corr.fits ./data2\\200920_631_1447_reg_corr.fits\n",
      " pid=15156)\u001b[0m ./data2\\200920_631_0313_reg_corr.fits ./data2\\200920_631_1447_reg_corr.fits\n",
      " pid=13720)\u001b[0m ./data2\\200920_631_0313_reg_corr.fits ./data2\\200920_631_1447_reg_corr.fits\n",
      " pid=9796)\u001b[0m ./data2\\200920_631_0313_reg_corr.fits ./data2\\200920_631_1447_reg_corr.fits\n",
      " pid=20468)\u001b[0m ./data2\\200920_631_0313_reg_corr.fits ./data2\\200920_631_1447_reg_corr.fits\n",
      " pid=19908)\u001b[0m ./data2\\200920_631_0434_reg_corr.fits ./data2\\200920_631_1231_reg_corr.fits\n",
      " pid=15272)\u001b[0m ./data2\\200920_631_0434_reg_corr.fits ./data2\\200920_631_1231_reg_corr.fits\n",
      " pid=15156)\u001b[0m ./data2\\200920_631_0434_reg_corr.fits ./data2\\200920_631_1231_reg_corr.fits\n"
     ]
    },
    {
     "name": "stderr",
     "output_type": "stream",
     "text": [
      "\u001b[2m\u001b[36m(pid=19908)\u001b[0m c:\\Users\\Brandon\\jupiter_wind\\jupiter-wind-speeds\\zonalwind.py:357: RuntimeWarning: divide by zero encountered in double_scalars\n",
      "\u001b[2m\u001b[36m(pid=19908)\u001b[0m   total_corr = (product_sum - sum1*sum2/N) / sqrt((sq_sum1 - (sum1**2)/N) * (sq_sum2 - (sum2**2)/N))\n",
      "\u001b[2m\u001b[36m(pid=15272)\u001b[0m c:\\Users\\Brandon\\jupiter_wind\\jupiter-wind-speeds\\zonalwind.py:357: RuntimeWarning: divide by zero encountered in double_scalars\n",
      "\u001b[2m\u001b[36m(pid=15272)\u001b[0m   total_corr = (product_sum - sum1*sum2/N) / sqrt((sq_sum1 - (sum1**2)/N) * (sq_sum2 - (sum2**2)/N))\n",
      "\u001b[2m\u001b[36m(pid=15156)\u001b[0m c:\\Users\\Brandon\\jupiter_wind\\jupiter-wind-speeds\\zonalwind.py:357: RuntimeWarning: divide by zero encountered in double_scalars\n",
      "\u001b[2m\u001b[36m(pid=15156)\u001b[0m   total_corr = (product_sum - sum1*sum2/N) / sqrt((sq_sum1 - (sum1**2)/N) * (sq_sum2 - (sum2**2)/N))\n",
      "\u001b[2m\u001b[36m(pid=15272)\u001b[0m c:\\Users\\Brandon\\jupiter_wind\\jupiter-wind-speeds\\zonalwind.py:325: RuntimeWarning: invalid value encountered in double_scalars\n",
      "\u001b[2m\u001b[36m(pid=15272)\u001b[0m   total_correlation += correlation\n"
     ]
    },
    {
     "name": "stdout",
     "output_type": "stream",
     "text": [
      " pid=13720)\u001b[0m ./data2\\200920_631_0434_reg_corr.fits ./data2\\200920_631_1231_reg_corr.fits\n"
     ]
    },
    {
     "name": "stderr",
     "output_type": "stream",
     "text": [
      "\u001b[2m\u001b[36m(pid=19908)\u001b[0m c:\\Users\\Brandon\\jupiter_wind\\jupiter-wind-speeds\\zonalwind.py:325: RuntimeWarning: invalid value encountered in double_scalars\n",
      "\u001b[2m\u001b[36m(pid=19908)\u001b[0m   total_correlation += correlation\n",
      "\u001b[2m\u001b[36m(pid=13720)\u001b[0m c:\\Users\\Brandon\\jupiter_wind\\jupiter-wind-speeds\\zonalwind.py:357: RuntimeWarning: divide by zero encountered in double_scalars\n",
      "\u001b[2m\u001b[36m(pid=13720)\u001b[0m   total_corr = (product_sum - sum1*sum2/N) / sqrt((sq_sum1 - (sum1**2)/N) * (sq_sum2 - (sum2**2)/N))\n",
      "\u001b[2m\u001b[36m(pid=15156)\u001b[0m c:\\Users\\Brandon\\jupiter_wind\\jupiter-wind-speeds\\zonalwind.py:325: RuntimeWarning: invalid value encountered in double_scalars\n",
      "\u001b[2m\u001b[36m(pid=15156)\u001b[0m   total_correlation += correlation\n",
      "\u001b[2m\u001b[36m(pid=13720)\u001b[0m c:\\Users\\Brandon\\jupiter_wind\\jupiter-wind-speeds\\zonalwind.py:325: RuntimeWarning: invalid value encountered in double_scalars\n",
      "\u001b[2m\u001b[36m(pid=13720)\u001b[0m   total_correlation += correlation\n"
     ]
    },
    {
     "name": "stdout",
     "output_type": "stream",
     "text": [
      " pid=9796)\u001b[0m ./data2\\200920_631_0434_reg_corr.fits ./data2\\200920_631_1231_reg_corr.fits\n"
     ]
    },
    {
     "name": "stderr",
     "output_type": "stream",
     "text": [
      "\u001b[2m\u001b[36m(pid=9796)\u001b[0m c:\\Users\\Brandon\\jupiter_wind\\jupiter-wind-speeds\\zonalwind.py:357: RuntimeWarning: divide by zero encountered in double_scalars\n",
      "\u001b[2m\u001b[36m(pid=9796)\u001b[0m   total_corr = (product_sum - sum1*sum2/N) / sqrt((sq_sum1 - (sum1**2)/N) * (sq_sum2 - (sum2**2)/N))\n",
      "\u001b[2m\u001b[36m(pid=9796)\u001b[0m c:\\Users\\Brandon\\jupiter_wind\\jupiter-wind-speeds\\zonalwind.py:325: RuntimeWarning: invalid value encountered in double_scalars\n",
      "\u001b[2m\u001b[36m(pid=9796)\u001b[0m   total_correlation += correlation\n"
     ]
    },
    {
     "name": "stdout",
     "output_type": "stream",
     "text": [
      " pid=20468)\u001b[0m ./data2\\200920_631_0434_reg_corr.fits ./data2\\200920_631_1231_reg_corr.fits\n"
     ]
    },
    {
     "name": "stderr",
     "output_type": "stream",
     "text": [
      "\u001b[2m\u001b[36m(pid=20468)\u001b[0m c:\\Users\\Brandon\\jupiter_wind\\jupiter-wind-speeds\\zonalwind.py:357: RuntimeWarning: divide by zero encountered in double_scalars\n",
      "\u001b[2m\u001b[36m(pid=20468)\u001b[0m   total_corr = (product_sum - sum1*sum2/N) / sqrt((sq_sum1 - (sum1**2)/N) * (sq_sum2 - (sum2**2)/N))\n",
      "\u001b[2m\u001b[36m(pid=20468)\u001b[0m c:\\Users\\Brandon\\jupiter_wind\\jupiter-wind-speeds\\zonalwind.py:325: RuntimeWarning: invalid value encountered in double_scalars\n",
      "\u001b[2m\u001b[36m(pid=20468)\u001b[0m   total_correlation += correlation\n"
     ]
    },
    {
     "name": "stdout",
     "output_type": "stream",
     "text": [
      " pid=15272)\u001b[0m ./data2\\200920_631_0434_reg_corr.fits ./data2\\200920_631_1258_reg_corr.fits\n",
      " pid=19908)\u001b[0m ./data2\\200920_631_0434_reg_corr.fits ./data2\\200920_631_1258_reg_corr.fits\n",
      " pid=15156)\u001b[0m ./data2\\200920_631_0434_reg_corr.fits ./data2\\200920_631_1258_reg_corr.fits\n",
      " pid=13720)\u001b[0m ./data2\\200920_631_0434_reg_corr.fits ./data2\\200920_631_1258_reg_corr.fits\n",
      " pid=9796)\u001b[0m ./data2\\200920_631_0434_reg_corr.fits ./data2\\200920_631_1258_reg_corr.fits\n",
      " pid=20468)\u001b[0m ./data2\\200920_631_0434_reg_corr.fits ./data2\\200920_631_1258_reg_corr.fits\n",
      " pid=15272)\u001b[0m ./data2\\200920_631_0434_reg_corr.fits ./data2\\200920_631_1406_reg_corr.fits\n",
      " pid=19908)\u001b[0m ./data2\\200920_631_0434_reg_corr.fits ./data2\\200920_631_1406_reg_corr.fits\n",
      " pid=15156)\u001b[0m ./data2\\200920_631_0434_reg_corr.fits ./data2\\200920_631_1406_reg_corr.fits\n",
      " pid=13720)\u001b[0m ./data2\\200920_631_0434_reg_corr.fits ./data2\\200920_631_1406_reg_corr.fits\n",
      " pid=9796)\u001b[0m ./data2\\200920_631_0434_reg_corr.fits ./data2\\200920_631_1406_reg_corr.fits\n",
      " pid=20468)\u001b[0m ./data2\\200920_631_0434_reg_corr.fits ./data2\\200920_631_1406_reg_corr.fits\n",
      " pid=15272)\u001b[0m ./data2\\200920_631_0434_reg_corr.fits ./data2\\200920_631_1447_reg_corr.fits\n",
      " pid=15156)\u001b[0m ./data2\\200920_631_0434_reg_corr.fits ./data2\\200920_631_1447_reg_corr.fits\n",
      " pid=19908)\u001b[0m ./data2\\200920_631_0434_reg_corr.fits ./data2\\200920_631_1447_reg_corr.fits\n",
      " pid=13720)\u001b[0m ./data2\\200920_631_0434_reg_corr.fits ./data2\\200920_631_1447_reg_corr.fits\n",
      " pid=9796)\u001b[0m ./data2\\200920_631_0434_reg_corr.fits ./data2\\200920_631_1447_reg_corr.fits\n",
      " pid=20468)\u001b[0m ./data2\\200920_631_0434_reg_corr.fits ./data2\\200920_631_1447_reg_corr.fits\n",
      " pid=15272)\u001b[0m ./data2\\200920_631_0458_reg_corr.fits ./data2\\200920_631_1258_reg_corr.fits\n",
      " pid=15156)\u001b[0m ./data2\\200920_631_0458_reg_corr.fits ./data2\\200920_631_1258_reg_corr.fits\n",
      " pid=19908)\u001b[0m ./data2\\200920_631_0458_reg_corr.fits ./data2\\200920_631_1258_reg_corr.fits\n",
      " pid=13720)\u001b[0m ./data2\\200920_631_0458_reg_corr.fits ./data2\\200920_631_1258_reg_corr.fits\n",
      " pid=9796)\u001b[0m ./data2\\200920_631_0458_reg_corr.fits ./data2\\200920_631_1258_reg_corr.fits\n",
      " pid=20468)\u001b[0m ./data2\\200920_631_0458_reg_corr.fits ./data2\\200920_631_1258_reg_corr.fits\n",
      " pid=15272)\u001b[0m ./data2\\200920_631_0458_reg_corr.fits ./data2\\200920_631_1406_reg_corr.fits\n",
      " pid=15156)\u001b[0m ./data2\\200920_631_0458_reg_corr.fits ./data2\\200920_631_1406_reg_corr.fits\n",
      " pid=19908)\u001b[0m ./data2\\200920_631_0458_reg_corr.fits ./data2\\200920_631_1406_reg_corr.fits\n",
      " pid=13720)\u001b[0m ./data2\\200920_631_0458_reg_corr.fits ./data2\\200920_631_1406_reg_corr.fits\n",
      " pid=9796)\u001b[0m ./data2\\200920_631_0458_reg_corr.fits ./data2\\200920_631_1406_reg_corr.fits\n",
      " pid=20468)\u001b[0m ./data2\\200920_631_0458_reg_corr.fits ./data2\\200920_631_1406_reg_corr.fits\n",
      " pid=15272)\u001b[0m ./data2\\200920_631_0458_reg_corr.fits ./data2\\200920_631_1447_reg_corr.fits\n",
      " pid=19908)\u001b[0m ./data2\\200920_631_0458_reg_corr.fits ./data2\\200920_631_1447_reg_corr.fits\n",
      " pid=15156)\u001b[0m ./data2\\200920_631_0458_reg_corr.fits ./data2\\200920_631_1447_reg_corr.fits\n",
      " pid=13720)\u001b[0m ./data2\\200920_631_0458_reg_corr.fits ./data2\\200920_631_1447_reg_corr.fits\n",
      " pid=9796)\u001b[0m ./data2\\200920_631_0458_reg_corr.fits ./data2\\200920_631_1447_reg_corr.fits\n",
      " pid=20468)\u001b[0m ./data2\\200920_631_0458_reg_corr.fits ./data2\\200920_631_1447_reg_corr.fits\n",
      "Latitude -23.05 velocity  -15.0\n",
      "Latitude -23.0 velocity  -17.0\n",
      "Latitude -22.95 velocity  -17.0\n",
      "Latitude -22.9 velocity  -19.0\n",
      "Latitude -22.85 velocity  -19.0\n",
      "Latitude -22.8 velocity  -21.0\n"
     ]
    }
   ],
   "source": [
    "#Generate an array of latitudes (pixels) and best velocities (m/s). \n",
    "#for lat in latitude:\n",
    "lats = [-23.05,-23.00,-22.95,-22.90,-22.85,-22.80]\n",
    "v_corr = np.zeros_like(latitude)*np.nan\n",
    "obj_list = []\n",
    "for lat in lats:\n",
    "    try:\n",
    "        obj_list.append(v_maxcorr.remote(lat, path2data=path2data, plotting=False, vstep=361))\n",
    "    except:\n",
    "        print(\"error at \", lat)\n",
    "\n",
    "for result in range(len(lats)):\n",
    "    cur_lat = lats[result]\n",
    "    result_v = ray.get(obj_list[result])\n",
    "    print(\"Latitude\",cur_lat, \"velocity \", result_v)\n",
    "    v_corr[np.where(cur_lat == np.around(latitude,2))] = result_v "
   ]
  },
  {
   "cell_type": "code",
   "execution_count": 3,
   "metadata": {},
   "outputs": [
    {
     "name": "stdout",
     "output_type": "stream",
     "text": [
      "./data2\\200920_631_0313_reg_corr.fits ./data2\\200920_631_1231_reg_corr.fits\n"
     ]
    },
    {
     "name": "stderr",
     "output_type": "stream",
     "text": [
      "c:\\Users\\Brandon\\jupiter_wind\\jupiter-wind-speeds\\zonalwind.py:357: RuntimeWarning: invalid value encountered in double_scalars\n",
      "  total_corr = (product_sum - sum1*sum2/N) / sqrt((sq_sum1 - (sum1**2)/N) * (sq_sum2 - (sum2**2)/N))\n"
     ]
    },
    {
     "name": "stdout",
     "output_type": "stream",
     "text": [
      "./data2\\200920_631_0313_reg_corr.fits ./data2\\200920_631_1258_reg_corr.fits\n",
      "./data2\\200920_631_0313_reg_corr.fits ./data2\\200920_631_1406_reg_corr.fits\n",
      "./data2\\200920_631_0313_reg_corr.fits ./data2\\200920_631_1447_reg_corr.fits\n",
      "./data2\\200920_631_0434_reg_corr.fits ./data2\\200920_631_1231_reg_corr.fits\n"
     ]
    },
    {
     "name": "stderr",
     "output_type": "stream",
     "text": [
      "c:\\Users\\Brandon\\jupiter_wind\\jupiter-wind-speeds\\zonalwind.py:357: RuntimeWarning: divide by zero encountered in double_scalars\n",
      "  total_corr = (product_sum - sum1*sum2/N) / sqrt((sq_sum1 - (sum1**2)/N) * (sq_sum2 - (sum2**2)/N))\n",
      "c:\\Users\\Brandon\\jupiter_wind\\jupiter-wind-speeds\\zonalwind.py:325: RuntimeWarning: invalid value encountered in double_scalars\n",
      "  total_correlation += correlation\n"
     ]
    },
    {
     "name": "stdout",
     "output_type": "stream",
     "text": [
      "./data2\\200920_631_0434_reg_corr.fits ./data2\\200920_631_1258_reg_corr.fits\n",
      "./data2\\200920_631_0434_reg_corr.fits ./data2\\200920_631_1406_reg_corr.fits\n",
      "./data2\\200920_631_0434_reg_corr.fits ./data2\\200920_631_1447_reg_corr.fits\n",
      "./data2\\200920_631_0458_reg_corr.fits ./data2\\200920_631_1258_reg_corr.fits\n",
      "./data2\\200920_631_0458_reg_corr.fits ./data2\\200920_631_1406_reg_corr.fits\n",
      "./data2\\200920_631_0458_reg_corr.fits ./data2\\200920_631_1447_reg_corr.fits\n",
      "Latitude -23.05 Velocity -15.00 m/s, time 7.294210211435954 minutes\n",
      "./data2\\200920_631_0313_reg_corr.fits ./data2\\200920_631_1231_reg_corr.fits\n",
      "./data2\\200920_631_0313_reg_corr.fits ./data2\\200920_631_1258_reg_corr.fits\n",
      "./data2\\200920_631_0313_reg_corr.fits ./data2\\200920_631_1406_reg_corr.fits\n",
      "./data2\\200920_631_0313_reg_corr.fits ./data2\\200920_631_1447_reg_corr.fits\n",
      "./data2\\200920_631_0434_reg_corr.fits ./data2\\200920_631_1231_reg_corr.fits\n",
      "./data2\\200920_631_0434_reg_corr.fits ./data2\\200920_631_1258_reg_corr.fits\n",
      "./data2\\200920_631_0434_reg_corr.fits ./data2\\200920_631_1406_reg_corr.fits\n",
      "./data2\\200920_631_0434_reg_corr.fits ./data2\\200920_631_1447_reg_corr.fits\n",
      "./data2\\200920_631_0458_reg_corr.fits ./data2\\200920_631_1258_reg_corr.fits\n",
      "./data2\\200920_631_0458_reg_corr.fits ./data2\\200920_631_1406_reg_corr.fits\n",
      "./data2\\200920_631_0458_reg_corr.fits ./data2\\200920_631_1447_reg_corr.fits\n",
      "Latitude -23.00 Velocity -17.00 m/s, time 7.537695097923279 minutes\n",
      "./data2\\200920_631_0313_reg_corr.fits ./data2\\200920_631_1231_reg_corr.fits\n",
      "./data2\\200920_631_0313_reg_corr.fits ./data2\\200920_631_1258_reg_corr.fits\n",
      "./data2\\200920_631_0313_reg_corr.fits ./data2\\200920_631_1406_reg_corr.fits\n",
      "./data2\\200920_631_0313_reg_corr.fits ./data2\\200920_631_1447_reg_corr.fits\n",
      "./data2\\200920_631_0434_reg_corr.fits ./data2\\200920_631_1231_reg_corr.fits\n",
      "./data2\\200920_631_0434_reg_corr.fits ./data2\\200920_631_1258_reg_corr.fits\n",
      "./data2\\200920_631_0434_reg_corr.fits ./data2\\200920_631_1406_reg_corr.fits\n",
      "./data2\\200920_631_0434_reg_corr.fits ./data2\\200920_631_1447_reg_corr.fits\n",
      "./data2\\200920_631_0458_reg_corr.fits ./data2\\200920_631_1258_reg_corr.fits\n",
      "./data2\\200920_631_0458_reg_corr.fits ./data2\\200920_631_1406_reg_corr.fits\n",
      "./data2\\200920_631_0458_reg_corr.fits ./data2\\200920_631_1447_reg_corr.fits\n",
      "Latitude -22.95 Velocity -17.00 m/s, time 7.413999593257904 minutes\n",
      "./data2\\200920_631_0313_reg_corr.fits ./data2\\200920_631_1231_reg_corr.fits\n",
      "./data2\\200920_631_0313_reg_corr.fits ./data2\\200920_631_1258_reg_corr.fits\n",
      "./data2\\200920_631_0313_reg_corr.fits ./data2\\200920_631_1406_reg_corr.fits\n",
      "./data2\\200920_631_0313_reg_corr.fits ./data2\\200920_631_1447_reg_corr.fits\n",
      "./data2\\200920_631_0434_reg_corr.fits ./data2\\200920_631_1231_reg_corr.fits\n",
      "./data2\\200920_631_0434_reg_corr.fits ./data2\\200920_631_1258_reg_corr.fits\n",
      "./data2\\200920_631_0434_reg_corr.fits ./data2\\200920_631_1406_reg_corr.fits\n",
      "./data2\\200920_631_0434_reg_corr.fits ./data2\\200920_631_1447_reg_corr.fits\n",
      "./data2\\200920_631_0458_reg_corr.fits ./data2\\200920_631_1258_reg_corr.fits\n",
      "./data2\\200920_631_0458_reg_corr.fits ./data2\\200920_631_1406_reg_corr.fits\n",
      "./data2\\200920_631_0458_reg_corr.fits ./data2\\200920_631_1447_reg_corr.fits\n",
      "Latitude -22.90 Velocity -19.00 m/s, time 7.326628665129344 minutes\n",
      "./data2\\200920_631_0313_reg_corr.fits ./data2\\200920_631_1231_reg_corr.fits\n",
      "./data2\\200920_631_0313_reg_corr.fits ./data2\\200920_631_1258_reg_corr.fits\n",
      "./data2\\200920_631_0313_reg_corr.fits ./data2\\200920_631_1406_reg_corr.fits\n",
      "./data2\\200920_631_0313_reg_corr.fits ./data2\\200920_631_1447_reg_corr.fits\n",
      "./data2\\200920_631_0434_reg_corr.fits ./data2\\200920_631_1231_reg_corr.fits\n",
      "./data2\\200920_631_0434_reg_corr.fits ./data2\\200920_631_1258_reg_corr.fits\n",
      "./data2\\200920_631_0434_reg_corr.fits ./data2\\200920_631_1406_reg_corr.fits\n",
      "./data2\\200920_631_0434_reg_corr.fits ./data2\\200920_631_1447_reg_corr.fits\n",
      "./data2\\200920_631_0458_reg_corr.fits ./data2\\200920_631_1258_reg_corr.fits\n",
      "./data2\\200920_631_0458_reg_corr.fits ./data2\\200920_631_1406_reg_corr.fits\n",
      "./data2\\200920_631_0458_reg_corr.fits ./data2\\200920_631_1447_reg_corr.fits\n",
      "Latitude -22.85 Velocity -19.00 m/s, time 7.277602279186249 minutes\n",
      "./data2\\200920_631_0313_reg_corr.fits ./data2\\200920_631_1231_reg_corr.fits\n",
      "./data2\\200920_631_0313_reg_corr.fits ./data2\\200920_631_1258_reg_corr.fits\n",
      "./data2\\200920_631_0313_reg_corr.fits ./data2\\200920_631_1406_reg_corr.fits\n",
      "./data2\\200920_631_0313_reg_corr.fits ./data2\\200920_631_1447_reg_corr.fits\n",
      "./data2\\200920_631_0434_reg_corr.fits ./data2\\200920_631_1231_reg_corr.fits\n",
      "./data2\\200920_631_0434_reg_corr.fits ./data2\\200920_631_1258_reg_corr.fits\n",
      "./data2\\200920_631_0434_reg_corr.fits ./data2\\200920_631_1406_reg_corr.fits\n",
      "./data2\\200920_631_0434_reg_corr.fits ./data2\\200920_631_1447_reg_corr.fits\n",
      "./data2\\200920_631_0458_reg_corr.fits ./data2\\200920_631_1258_reg_corr.fits\n",
      "./data2\\200920_631_0458_reg_corr.fits ./data2\\200920_631_1406_reg_corr.fits\n",
      "./data2\\200920_631_0458_reg_corr.fits ./data2\\200920_631_1447_reg_corr.fits\n",
      "Latitude -22.80 Velocity -21.00 m/s, time 7.624917205174764 minutes\n"
     ]
    }
   ],
   "source": [
    "#non_ray\n",
    "\n",
    "#Generate an array of latitudes (pixels) and best velocities (m/s). \n",
    "#for lat in latitude:\n",
    "lats = [-23.05,-23.00,-22.95,-22.90,-22.85,-22.80]\n",
    "\n",
    "v_corr = np.zeros_like(latitude)*np.nan\n",
    "for lat in lats:\n",
    "    try:\n",
    "        t0 = time()\n",
    "        v = v_maxcorr(lat, path2data=path2data, plotting=False, vstep=361)\n",
    "        print(f'Latitude {lat:2.2f} Velocity {v:2.2f} m/s, time {(time() - t0)/60} minutes')\n",
    "        # Save v to velocity array \n",
    "        v_corr[np.where(lat == np.around(latitude,2))] = v \n",
    "    except:\n",
    "        print(f'Error at {lat} deg')"
   ]
  },
  {
   "cell_type": "code",
   "execution_count": 4,
   "id": "committed-packing",
   "metadata": {},
   "outputs": [
    {
     "data": {
      "image/png": "[encoded data removed]",
      "text/plain": [
       "<Figure size 576x288 with 1 Axes>"
      ]
     },
     "metadata": {
      "needs_background": "light"
     },
     "output_type": "display_data"
    }
   ],
   "source": [
    "\n",
    "#Plot results along with currently accepted ZWP to compare. \n",
    "path2wp = path2data + 'ZWP_j2016_PJ03.txt'\n",
    "lat_zwp, zwp = readZWP(path2wp) \n",
    "fig, axs = plt.subplots(1, 1,figsize=(8,4))\n",
    "axs.plot(zwp,lat_zwp,label='JT - ZWP')\n",
    "axs.plot(v_corr,latitude,label='DP')\n",
    "axs.set_ylabel('Latitude (deg)')\n",
    "axs.set_xlabel('Velocity (m/s)')\n",
    "axs.set_ylim([-60,60])\n",
    "#ray.shutdown()\n",
    "plt.show()"
   ]
  },
  {
   "cell_type": "code",
   "execution_count": null,
   "id": "moving-season",
   "metadata": {},
   "outputs": [],
   "source": []
  }
 ],
 "metadata": {
  "interpreter": {
   "hash": "7d5a4c25d1db69242750b52f4423b598f53049bf03176fcd1b93f11e062e3618"
  },
  "kernelspec": {
   "display_name": "Python 3.9.7 64-bit",
   "name": "python3"
  },
  "language_info": {
   "codemirror_mode": {
    "name": "ipython",
    "version": 3
   },
   "file_extension": ".py",
   "mimetype": "text/x-python",
   "name": "python",
   "nbconvert_exporter": "python",
   "pygments_lexer": "ipython3",
   "version": "3.9.7"
  }
 },
 "nbformat": 4,
 "nbformat_minor": 5
}
