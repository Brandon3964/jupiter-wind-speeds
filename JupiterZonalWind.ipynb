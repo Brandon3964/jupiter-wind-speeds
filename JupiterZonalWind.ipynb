{
 "cells": [
  {
   "cell_type": "code",
   "execution_count": 1,
   "id": "liquid-plate",
   "metadata": {},
   "outputs": [],
   "source": [
    "# Import the relevant zonal wind main code \n",
    "from zonalwind import * \n",
    "\n",
    "#Set path of images\n",
    "path2data = './data/'"
   ]
  },
  {
   "cell_type": "code",
   "execution_count": 2,
   "id": "final-public",
   "metadata": {},
   "outputs": [],
   "source": [
    "\n",
    "\n",
    "#Get an array of latitudes from -70 to 70 degrees in increments of +0.05 to refer to when printing out latitudes below.\n",
    "images = glob.glob(path2data + '*.fits')\n",
    "image1 = images[0]\n",
    "hdulist = fits.open(image1) \n",
    "lat_bot, lat_top, lat_step = hdulist[0].header['LAT_BOT'], hdulist[0].header['LAT_TOP'], hdulist[0].header['LAT_STEP']\n",
    "latitude = np.linspace(lat_bot, lat_top, int((lat_top - lat_bot)/lat_step) + 1)\n",
    "\n",
    "# Caveat, this only works if all the images have the same latitude cut off "
   ]
  },
  {
   "cell_type": "code",
   "execution_count": null,
   "id": "crude-palmer",
   "metadata": {},
   "outputs": [
    {
     "name": "stdout",
     "output_type": "stream",
     "text": [
      "./data/corrected_12.fits ./data/corrected_2.fits\n"
     ]
    },
    {
     "name": "stderr",
     "output_type": "stream",
     "text": [
      "/Users/chris/Documents/Research/Toolbox/jupiter-wind-speeds/zonalwind.py:355: RuntimeWarning: invalid value encountered in double_scalars\n",
      "  total_corr = (product_sum - sum1*sum2/N) / sqrt((sq_sum1 - (sum1**2)/N) * (sq_sum2 - (sum2**2)/N))\n"
     ]
    },
    {
     "name": "stdout",
     "output_type": "stream",
     "text": [
      "Latitude -23.05 Velocity -180.00 m/s, time 1.3632163325945537 minutes\n",
      "./data/corrected_12.fits ./data/corrected_2.fits\n",
      "Latitude -23.00 Velocity -180.00 m/s, time 1.564259417851766 minutes\n",
      "./data/corrected_12.fits ./data/corrected_2.fits\n"
     ]
    }
   ],
   "source": [
    "#Generate an array of latitudes (pixels) and best velocities (m/s). \n",
    "#for lat in latitude:\n",
    "lats = [-23.05,-23.00,-22.95]\n",
    "v_corr = np.zeros_like(latitude)*np.nan\n",
    "for lat in lats:\n",
    "    try:\n",
    "        t0 = time()\n",
    "        v = v_maxcorr(lat, path2data=path2data, plotting=False, vstep=361)\n",
    "        print(f'Latitude {lat:2.2f} Velocity {v:2.2f} m/s, time {(time() - t0)/60} minutes')\n",
    "        # Save v to velocity array \n",
    "        v_corr[np.where(lat == np.around(latitude,2))] = v \n",
    "    except:\n",
    "        print(f'Error at {lat} deg')\n"
   ]
  },
  {
   "cell_type": "code",
   "execution_count": 9,
   "id": "preceding-thousand",
   "metadata": {},
   "outputs": [
    {
     "ename": "NameError",
     "evalue": "name 'v_corr' is not defined",
     "output_type": "error",
     "traceback": [
      "\u001b[0;31m---------------------------------------------------------------------------\u001b[0m",
      "\u001b[0;31mNameError\u001b[0m                                 Traceback (most recent call last)",
      "\u001b[0;32m<ipython-input-9-e10e143b5dff>\u001b[0m in \u001b[0;36m<module>\u001b[0;34m\u001b[0m\n\u001b[1;32m      5\u001b[0m \u001b[0mfig\u001b[0m\u001b[0;34m,\u001b[0m \u001b[0maxs\u001b[0m \u001b[0;34m=\u001b[0m \u001b[0mplt\u001b[0m\u001b[0;34m.\u001b[0m\u001b[0msubplots\u001b[0m\u001b[0;34m(\u001b[0m\u001b[0;36m1\u001b[0m\u001b[0;34m,\u001b[0m \u001b[0;36m1\u001b[0m\u001b[0;34m,\u001b[0m\u001b[0mfigsize\u001b[0m\u001b[0;34m=\u001b[0m\u001b[0;34m(\u001b[0m\u001b[0;36m8\u001b[0m\u001b[0;34m,\u001b[0m\u001b[0;36m4\u001b[0m\u001b[0;34m)\u001b[0m\u001b[0;34m)\u001b[0m\u001b[0;34m\u001b[0m\u001b[0;34m\u001b[0m\u001b[0m\n\u001b[1;32m      6\u001b[0m \u001b[0maxs\u001b[0m\u001b[0;34m.\u001b[0m\u001b[0mplot\u001b[0m\u001b[0;34m(\u001b[0m\u001b[0mzwp\u001b[0m\u001b[0;34m,\u001b[0m\u001b[0mlat_zwp\u001b[0m\u001b[0;34m,\u001b[0m\u001b[0mlabel\u001b[0m\u001b[0;34m=\u001b[0m\u001b[0;34m'JT - ZWP'\u001b[0m\u001b[0;34m)\u001b[0m\u001b[0;34m\u001b[0m\u001b[0;34m\u001b[0m\u001b[0m\n\u001b[0;32m----> 7\u001b[0;31m \u001b[0maxs\u001b[0m\u001b[0;34m.\u001b[0m\u001b[0mplot\u001b[0m\u001b[0;34m(\u001b[0m\u001b[0mv_corr\u001b[0m\u001b[0;34m,\u001b[0m\u001b[0mlatitude\u001b[0m\u001b[0;34m,\u001b[0m\u001b[0mlabel\u001b[0m\u001b[0;34m=\u001b[0m\u001b[0;34m'DP'\u001b[0m\u001b[0;34m)\u001b[0m\u001b[0;34m\u001b[0m\u001b[0;34m\u001b[0m\u001b[0m\n\u001b[0m\u001b[1;32m      8\u001b[0m \u001b[0maxs\u001b[0m\u001b[0;34m.\u001b[0m\u001b[0mset_ylabel\u001b[0m\u001b[0;34m(\u001b[0m\u001b[0;34m'Latitude (deg)'\u001b[0m\u001b[0;34m)\u001b[0m\u001b[0;34m\u001b[0m\u001b[0;34m\u001b[0m\u001b[0m\n\u001b[1;32m      9\u001b[0m \u001b[0maxs\u001b[0m\u001b[0;34m.\u001b[0m\u001b[0mset_xlabel\u001b[0m\u001b[0;34m(\u001b[0m\u001b[0;34m'Velocity (m/s)'\u001b[0m\u001b[0;34m)\u001b[0m\u001b[0;34m\u001b[0m\u001b[0;34m\u001b[0m\u001b[0m\n",
      "\u001b[0;31mNameError\u001b[0m: name 'v_corr' is not defined"
     ]
    },
    {
     "data": {
      "image/png": "[encoded data removed]",
      "text/plain": [
       "<Figure size 576x288 with 1 Axes>"
      ]
     },
     "metadata": {
      "needs_background": "light"
     },
     "output_type": "display_data"
    }
   ],
   "source": [
    "\n",
    "#Plot results along with currently accepted ZWP to compare. \n",
    "path2wp = path2data + 'ZWP_j2016_PJ03.txt'\n",
    "lat_zwp, zwp = readZWP(path2wp) \n",
    "fig, axs = plt.subplots(1, 1,figsize=(8,4))\n",
    "axs.plot(zwp,lat_zwp,label='JT - ZWP')\n",
    "axs.plot(v_corr,latitude,label='DP')\n",
    "axs.set_ylabel('Latitude (deg)')\n",
    "axs.set_xlabel('Velocity (m/s)')\n",
    "axs.set_ylim([-60,60])\n",
    "plt.show()"
   ]
  },
  {
   "cell_type": "code",
   "execution_count": null,
   "id": "compatible-hampshire",
   "metadata": {},
   "outputs": [],
   "source": []
  }
 ],
 "metadata": {
  "kernelspec": {
   "display_name": "Python 3",
   "language": "python",
   "name": "python3"
  },
  "language_info": {
   "codemirror_mode": {
    "name": "ipython",
    "version": 3
   },
   "file_extension": ".py",
   "mimetype": "text/x-python",
   "name": "python",
   "nbconvert_exporter": "python",
   "pygments_lexer": "ipython3",
   "version": "3.7.3"
  }
 },
 "nbformat": 4,
 "nbformat_minor": 5
}
